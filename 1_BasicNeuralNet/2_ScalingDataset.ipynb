{
 "cells": [
  {
   "cell_type": "markdown",
   "id": "bb887830",
   "metadata": {},
   "source": [
    "## 2. The impact of Scaling the Dataset\n",
    "\n",
    "The only change here is to modify the FMNISTDataset class where the input value is divided by the maximum possible value in the dataset which is 255. This to ensure that all the variables values are between 0 and 1."
   ]
  },
  {
   "cell_type": "markdown",
   "id": "e0e4c52c",
   "metadata": {},
   "source": [
    "### Import The Relevant Packages"
   ]
  },
  {
   "cell_type": "code",
   "execution_count": 13,
   "id": "3ef82c9e",
   "metadata": {},
   "outputs": [],
   "source": [
    "import torch \n",
    "import torch.nn as nn \n",
    "from torch.utils.data import Dataset, DataLoader\n",
    "from torch.optim import SGD\n",
    "import numpy as np\n",
    "import matplotlib.pyplot as plt\n",
    "%matplotlib inline\n",
    "import warnings\n",
    "warnings.filterwarnings(\"ignore\")\n",
    "device = 'cuda' if torch.cuda.is_available() else 'cpu' "
   ]
  },
  {
   "cell_type": "markdown",
   "id": "9c0a9873",
   "metadata": {},
   "source": [
    "###  Download and Prepare The Dataset"
   ]
  },
  {
   "cell_type": "code",
   "execution_count": 14,
   "id": "c5f6e699",
   "metadata": {},
   "outputs": [],
   "source": [
    "from torchvision import datasets\n",
    "data_folder = \"Datasets\"                        \n",
    "fmnist = datasets.FashionMNIST(data_folder, download=True, train=True)"
   ]
  },
  {
   "cell_type": "code",
   "execution_count": 15,
   "id": "2bcdc94b",
   "metadata": {},
   "outputs": [],
   "source": [
    "train_images = fmnist.data                                \n",
    "train_targets = fmnist.targets                            "
   ]
  },
  {
   "cell_type": "code",
   "execution_count": 16,
   "id": "a72f6d77",
   "metadata": {},
   "outputs": [],
   "source": [
    "class FMNISTDataset(Dataset):\n",
    "    def __init__(self,x,y):\n",
    "        x= x.float()/255            #divide the input data by the maximum value\n",
    "        x = x.view(-1,28*28)        \n",
    "        self.x , self.y = x,y\n",
    "    def __len__(self):\n",
    "        return len(self.x)\n",
    "    def __getitem__(self,index):\n",
    "        x,y = self.x[index], self.y[index]\n",
    "        return x.to(device), y.to(device)  "
   ]
  },
  {
   "cell_type": "code",
   "execution_count": null,
   "id": "9803fee5",
   "metadata": {},
   "outputs": [],
   "source": [
    "def build_model(optimizer = SGD, lr = 1e-2 ):\n",
    "    \n",
    "    model = nn.Sequential(\n",
    "                nn.Linear(28 * 28, 1000),\n",
    "                nn.ReLU(),\n",
    "                nn.Linear(1000,10)\n",
    "                         ).to(device)\n",
    "    loss_function = nn.CrossEntropyLoss()\n",
    "    optimizer = optimizer(model.parameters(), lr = lr)   \n",
    "    \n",
    "    return model , loss_function, optimizer\n"
   ]
  },
  {
   "cell_type": "code",
   "execution_count": null,
   "id": "51b0c0ea",
   "metadata": {},
   "outputs": [],
   "source": [
    "def train_batch(input_batch, targets, model, loss_function, optimizer):\n",
    "    model.train()                                        \n",
    "    predictions = model(input_batch)                     #perfom forward propagation\n",
    "    batch_loss = loss_function(predictions,targets)      #compute the loss value \n",
    "    batch_loss.backward()                                #perfom backward propagation\n",
    "    optimizer.step()                                     #calculate new weights\n",
    "    optimizer.zero_grad()                                #flush the gradients for next batch of calculations\n",
    "    \n",
    "    return batch_loss.item()                             #return the loss value"
   ]
  },
  {
   "cell_type": "code",
   "execution_count": 17,
   "id": "2b3605ec",
   "metadata": {},
   "outputs": [],
   "source": [
    "train_data = FMNISTDataset(train_images,train_targets) \n",
    "train_data_loader = DataLoader(train_data, batch_size=32, shuffle=True)"
   ]
  },
  {
   "cell_type": "code",
   "execution_count": null,
   "id": "dd3c05e4",
   "metadata": {},
   "outputs": [],
   "source": []
  }
 ],
 "metadata": {
  "kernelspec": {
   "display_name": "Python 3 (ipykernel)",
   "language": "python",
   "name": "python3"
  },
  "language_info": {
   "codemirror_mode": {
    "name": "ipython",
    "version": 3
   },
   "file_extension": ".py",
   "mimetype": "text/x-python",
   "name": "python",
   "nbconvert_exporter": "python",
   "pygments_lexer": "ipython3",
   "version": "3.11.0"
  }
 },
 "nbformat": 4,
 "nbformat_minor": 5
}
