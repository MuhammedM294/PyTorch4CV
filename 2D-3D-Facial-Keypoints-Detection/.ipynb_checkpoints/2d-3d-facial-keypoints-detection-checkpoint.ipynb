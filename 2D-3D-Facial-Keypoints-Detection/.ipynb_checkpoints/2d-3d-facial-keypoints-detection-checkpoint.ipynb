{
 "cells": [
  {
   "cell_type": "markdown",
   "metadata": {},
   "source": [
    "####  Leveraging a pre-trained model that can detect the 2D and 3D key points present in my image."
   ]
  },
  {
   "cell_type": "markdown",
   "metadata": {},
   "source": [
    "##### Install the required package:  #pip install face-alignment"
   ]
  },
  {
   "cell_type": "code",
   "execution_count": 4,
   "metadata": {},
   "outputs": [
    {
     "name": "stdout",
     "output_type": "stream",
     "text": [
      "Requirement already satisfied: face-alignment in /home/m294/anaconda3/envs/cv/lib/python3.11/site-packages (1.3.5)\n",
      "Requirement already satisfied: torch in /home/m294/anaconda3/envs/cv/lib/python3.11/site-packages (from face-alignment) (2.0.1)\n",
      "Requirement already satisfied: numpy in /home/m294/anaconda3/envs/cv/lib/python3.11/site-packages (from face-alignment) (1.24.3)\n",
      "Requirement already satisfied: scipy>=0.17 in /home/m294/anaconda3/envs/cv/lib/python3.11/site-packages (from face-alignment) (1.10.1)\n",
      "Requirement already satisfied: scikit-image in /home/m294/anaconda3/envs/cv/lib/python3.11/site-packages (from face-alignment) (0.20.0)\n",
      "Requirement already satisfied: opencv-python in /home/m294/anaconda3/envs/cv/lib/python3.11/site-packages (from face-alignment) (4.7.0.72)\n",
      "Requirement already satisfied: tqdm in /home/m294/anaconda3/envs/cv/lib/python3.11/site-packages (from face-alignment) (4.65.0)\n",
      "Requirement already satisfied: numba in /home/m294/anaconda3/envs/cv/lib/python3.11/site-packages (from face-alignment) (0.57.0)\n",
      "Requirement already satisfied: llvmlite<0.41,>=0.40.0dev0 in /home/m294/anaconda3/envs/cv/lib/python3.11/site-packages (from numba->face-alignment) (0.40.0)\n",
      "Requirement already satisfied: networkx>=2.8 in /home/m294/anaconda3/envs/cv/lib/python3.11/site-packages (from scikit-image->face-alignment) (3.1)\n",
      "Requirement already satisfied: pillow>=9.0.1 in /home/m294/anaconda3/envs/cv/lib/python3.11/site-packages (from scikit-image->face-alignment) (9.5.0)\n",
      "Requirement already satisfied: imageio>=2.4.1 in /home/m294/anaconda3/envs/cv/lib/python3.11/site-packages (from scikit-image->face-alignment) (2.29.0)\n",
      "Requirement already satisfied: tifffile>=2019.7.26 in /home/m294/anaconda3/envs/cv/lib/python3.11/site-packages (from scikit-image->face-alignment) (2023.4.12)\n",
      "Requirement already satisfied: PyWavelets>=1.1.1 in /home/m294/anaconda3/envs/cv/lib/python3.11/site-packages (from scikit-image->face-alignment) (1.4.1)\n",
      "Requirement already satisfied: packaging>=20.0 in /home/m294/anaconda3/envs/cv/lib/python3.11/site-packages (from scikit-image->face-alignment) (23.1)\n",
      "Requirement already satisfied: lazy_loader>=0.1 in /home/m294/anaconda3/envs/cv/lib/python3.11/site-packages (from scikit-image->face-alignment) (0.2)\n",
      "Requirement already satisfied: filelock in /home/m294/anaconda3/envs/cv/lib/python3.11/site-packages (from torch->face-alignment) (3.12.0)\n",
      "Requirement already satisfied: typing-extensions in /home/m294/anaconda3/envs/cv/lib/python3.11/site-packages (from torch->face-alignment) (4.6.0)\n",
      "Requirement already satisfied: sympy in /home/m294/anaconda3/envs/cv/lib/python3.11/site-packages (from torch->face-alignment) (1.12)\n",
      "Requirement already satisfied: jinja2 in /home/m294/anaconda3/envs/cv/lib/python3.11/site-packages (from torch->face-alignment) (3.1.2)\n",
      "Requirement already satisfied: nvidia-cuda-nvrtc-cu11==11.7.99 in /home/m294/anaconda3/envs/cv/lib/python3.11/site-packages (from torch->face-alignment) (11.7.99)\n",
      "Requirement already satisfied: nvidia-cuda-runtime-cu11==11.7.99 in /home/m294/anaconda3/envs/cv/lib/python3.11/site-packages (from torch->face-alignment) (11.7.99)\n",
      "Requirement already satisfied: nvidia-cuda-cupti-cu11==11.7.101 in /home/m294/anaconda3/envs/cv/lib/python3.11/site-packages (from torch->face-alignment) (11.7.101)\n",
      "Requirement already satisfied: nvidia-cudnn-cu11==8.5.0.96 in /home/m294/anaconda3/envs/cv/lib/python3.11/site-packages (from torch->face-alignment) (8.5.0.96)\n",
      "Requirement already satisfied: nvidia-cublas-cu11==11.10.3.66 in /home/m294/anaconda3/envs/cv/lib/python3.11/site-packages (from torch->face-alignment) (11.10.3.66)\n",
      "Requirement already satisfied: nvidia-cufft-cu11==10.9.0.58 in /home/m294/anaconda3/envs/cv/lib/python3.11/site-packages (from torch->face-alignment) (10.9.0.58)\n",
      "Requirement already satisfied: nvidia-curand-cu11==10.2.10.91 in /home/m294/anaconda3/envs/cv/lib/python3.11/site-packages (from torch->face-alignment) (10.2.10.91)\n",
      "Requirement already satisfied: nvidia-cusolver-cu11==11.4.0.1 in /home/m294/anaconda3/envs/cv/lib/python3.11/site-packages (from torch->face-alignment) (11.4.0.1)\n",
      "Requirement already satisfied: nvidia-cusparse-cu11==11.7.4.91 in /home/m294/anaconda3/envs/cv/lib/python3.11/site-packages (from torch->face-alignment) (11.7.4.91)\n",
      "Requirement already satisfied: nvidia-nccl-cu11==2.14.3 in /home/m294/anaconda3/envs/cv/lib/python3.11/site-packages (from torch->face-alignment) (2.14.3)\n",
      "Requirement already satisfied: nvidia-nvtx-cu11==11.7.91 in /home/m294/anaconda3/envs/cv/lib/python3.11/site-packages (from torch->face-alignment) (11.7.91)\n",
      "Requirement already satisfied: triton==2.0.0 in /home/m294/anaconda3/envs/cv/lib/python3.11/site-packages (from torch->face-alignment) (2.0.0)\n",
      "Requirement already satisfied: setuptools in /home/m294/anaconda3/envs/cv/lib/python3.11/site-packages (from nvidia-cublas-cu11==11.10.3.66->torch->face-alignment) (67.7.2)\n",
      "Requirement already satisfied: wheel in /home/m294/anaconda3/envs/cv/lib/python3.11/site-packages (from nvidia-cublas-cu11==11.10.3.66->torch->face-alignment) (0.40.0)\n",
      "Requirement already satisfied: cmake in /home/m294/anaconda3/envs/cv/lib/python3.11/site-packages (from triton==2.0.0->torch->face-alignment) (3.26.3)\n",
      "Requirement already satisfied: lit in /home/m294/anaconda3/envs/cv/lib/python3.11/site-packages (from triton==2.0.0->torch->face-alignment) (16.0.5)\n",
      "Requirement already satisfied: MarkupSafe>=2.0 in /home/m294/anaconda3/envs/cv/lib/python3.11/site-packages (from jinja2->torch->face-alignment) (2.1.2)\n",
      "Requirement already satisfied: mpmath>=0.19 in /home/m294/anaconda3/envs/cv/lib/python3.11/site-packages (from sympy->torch->face-alignment) (1.3.0)\n"
     ]
    },
    {
     "ename": "ModuleNotFoundError",
     "evalue": "No module named 'face_alignment'",
     "output_type": "error",
     "traceback": [
      "\u001b[0;31m---------------------------------------------------------------------------\u001b[0m",
      "\u001b[0;31mModuleNotFoundError\u001b[0m                       Traceback (most recent call last)",
      "\u001b[0;32m/tmp/ipykernel_2810/521917129.py\u001b[0m in \u001b[0;36m<module>\u001b[0;34m\u001b[0m\n\u001b[1;32m      1\u001b[0m \u001b[0mget_ipython\u001b[0m\u001b[0;34m(\u001b[0m\u001b[0;34m)\u001b[0m\u001b[0;34m.\u001b[0m\u001b[0msystem\u001b[0m\u001b[0;34m(\u001b[0m\u001b[0;34m'pip install face-alignment'\u001b[0m\u001b[0;34m)\u001b[0m\u001b[0;34m\u001b[0m\u001b[0;34m\u001b[0m\u001b[0m\n\u001b[1;32m      2\u001b[0m \u001b[0;32mimport\u001b[0m \u001b[0mcv2\u001b[0m\u001b[0;34m\u001b[0m\u001b[0;34m\u001b[0m\u001b[0m\n\u001b[0;32m----> 3\u001b[0;31m \u001b[0;32mimport\u001b[0m \u001b[0mface_alignment\u001b[0m\u001b[0;34m\u001b[0m\u001b[0;34m\u001b[0m\u001b[0m\n\u001b[0m",
      "\u001b[0;31mModuleNotFoundError\u001b[0m: No module named 'face_alignment'"
     ]
    }
   ],
   "source": [
    "!pip install face-alignment\n",
    "import cv2\n",
    "import face_alignment"
   ]
  },
  {
   "cell_type": "markdown",
   "metadata": {},
   "source": [
    "### 2D Detection"
   ]
  },
  {
   "cell_type": "code",
   "execution_count": 3,
   "metadata": {},
   "outputs": [
    {
     "ename": "NameError",
     "evalue": "name 'face_alignment' is not defined",
     "output_type": "error",
     "traceback": [
      "\u001b[0;31m---------------------------------------------------------------------------\u001b[0m",
      "\u001b[0;31mNameError\u001b[0m                                 Traceback (most recent call last)",
      "\u001b[0;32m/tmp/ipykernel_2810/2353143059.py\u001b[0m in \u001b[0;36m<module>\u001b[0;34m\u001b[0m\n\u001b[0;32m----> 1\u001b[0;31m \u001b[0mmy_face_alignment\u001b[0m \u001b[0;34m=\u001b[0m \u001b[0mface_alignment\u001b[0m\u001b[0;34m.\u001b[0m\u001b[0mFaceAlignment\u001b[0m\u001b[0;34m(\u001b[0m\u001b[0mface_alignment\u001b[0m\u001b[0;34m.\u001b[0m\u001b[0mLandmarksType\u001b[0m\u001b[0;34m.\u001b[0m\u001b[0m_2D\u001b[0m\u001b[0;34m,\u001b[0m \u001b[0mflip_input\u001b[0m\u001b[0;34m=\u001b[0m\u001b[0;32mFalse\u001b[0m\u001b[0;34m,\u001b[0m \u001b[0mdevice\u001b[0m\u001b[0;34m=\u001b[0m\u001b[0;34m'cpu'\u001b[0m\u001b[0;34m)\u001b[0m\u001b[0;34m\u001b[0m\u001b[0;34m\u001b[0m\u001b[0m\n\u001b[0m",
      "\u001b[0;31mNameError\u001b[0m: name 'face_alignment' is not defined"
     ]
    }
   ],
   "source": [
    "my_face_alignment = face_alignment.FaceAlignment(face_alignment.LandmarksType._2D, flip_input=False, device='cpu')"
   ]
  },
  {
   "cell_type": "code",
   "execution_count": null,
   "metadata": {},
   "outputs": [],
   "source": [
    "input = cv2.imread('IMG.jpg')\n",
    "prediction = my_face_alignment.get_landmarks(input)[0]\n",
    "print(prediction.shape)"
   ]
  },
  {
   "cell_type": "code",
   "execution_count": null,
   "metadata": {},
   "outputs": [],
   "source": [
    "import matplotlib.pyplot as plt\n",
    "%matplotlib inline\n",
    "fig,ax = plt.subplots(figsize=(10,10))\n",
    "plt.imshow(cv2.cvtColor(cv2.imread('IMG.jpg'), cv2.COLOR_BGR2RGB))\n",
    "ax.scatter(prediction[:,0], prediction[:,1], marker='+', c='r')\n",
    "plt.show()"
   ]
  },
  {
   "cell_type": "markdown",
   "metadata": {},
   "source": [
    "### 3D Detection"
   ]
  },
  {
   "cell_type": "code",
   "execution_count": null,
   "metadata": {},
   "outputs": [],
   "source": [
    "my_face_alignment = face_alignment.FaceAlignment(face_alignment.LandmarksType._3D, flip_input=False, device='cpu')"
   ]
  },
  {
   "cell_type": "code",
   "execution_count": null,
   "metadata": {},
   "outputs": [],
   "source": [
    "prediction = my_face_alignment.get_landmarks(input)[0]"
   ]
  },
  {
   "cell_type": "code",
   "execution_count": null,
   "metadata": {},
   "outputs": [],
   "source": [
    "import pandas as pd\n",
    "df = pd.DataFrame(prediction)\n",
    "df.columns = ['x','y','z']"
   ]
  },
  {
   "cell_type": "code",
   "execution_count": null,
   "metadata": {},
   "outputs": [],
   "source": [
    "import plotly.express as px\n",
    "fig = px.scatter_3d(df, x = 'x', y = 'y', z = 'z')\n",
    "fig.show()"
   ]
  }
 ],
 "metadata": {
  "kernelspec": {
   "display_name": "Python 3 (ipykernel)",
   "language": "python",
   "name": "python3"
  },
  "language_info": {
   "codemirror_mode": {
    "name": "ipython",
    "version": 3
   },
   "file_extension": ".py",
   "mimetype": "text/x-python",
   "name": "python",
   "nbconvert_exporter": "python",
   "pygments_lexer": "ipython3",
   "version": "3.10.6"
  }
 },
 "nbformat": 4,
 "nbformat_minor": 2
}
