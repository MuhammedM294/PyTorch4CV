{
 "cells": [
  {
   "cell_type": "markdown",
   "metadata": {},
   "source": [
    "### Using GAN for Faces Images Generation"
   ]
  },
  {
   "cell_type": "markdown",
   "metadata": {},
   "source": [
    "#### Download and Extract the Dataset"
   ]
  },
  {
   "cell_type": "code",
   "execution_count": 1,
   "metadata": {},
   "outputs": [],
   "source": [
    "#! wget https://www.dropbox.com/s/rbajpdlh7efkdo1/male_female_face_images.zip"
   ]
  },
  {
   "cell_type": "code",
   "execution_count": 2,
   "metadata": {},
   "outputs": [],
   "source": [
    "#! unzip male_female_face_images.zip"
   ]
  },
  {
   "cell_type": "markdown",
   "metadata": {},
   "source": [
    "#### Import the Relevant Packages"
   ]
  },
  {
   "cell_type": "code",
   "execution_count": 3,
   "metadata": {},
   "outputs": [],
   "source": [
    "from torch_snippets import *\n",
    "from torchvision import transforms as T\n",
    "from glob import glob\n",
    "from PIL import Image\n",
    "import torchvision\n",
    "import torch.nn as nn\n",
    "import torchvision.utils as vutils\n",
    "import cv2 , numpy as np , pandas as pd\n",
    "\n",
    "device = 'cuda' if torch.cuda.is_available() else 'cpu'"
   ]
  },
  {
   "cell_type": "markdown",
   "metadata": {},
   "source": [
    "#### Crop the Images to Contain only Faces"
   ]
  },
  {
   "cell_type": "code",
   "execution_count": 4,
   "metadata": {},
   "outputs": [],
   "source": [
    "face_cascade = cv2.CascadeClassifier(cv2.data.haarcascades+'haarcascade_frontalface_default.xml')"
   ]
  },
  {
   "cell_type": "code",
   "execution_count": 5,
   "metadata": {},
   "outputs": [
    {
     "name": "stdout",
     "output_type": "stream",
     "text": [
      "mkdir: cannot create directory ‘cropped_images’: File exists\n"
     ]
    }
   ],
   "source": [
    "! mkdir cropped_images"
   ]
  },
  {
   "cell_type": "code",
   "execution_count": 6,
   "metadata": {},
   "outputs": [],
   "source": [
    "images_paths = glob('males/*.jpg') + glob('females/*.jpg')"
   ]
  },
  {
   "cell_type": "code",
   "execution_count": 7,
   "metadata": {},
   "outputs": [],
   "source": [
    "for i in range(len(images_paths)):\n",
    "    image = cv2.imread(images_paths[i],1)\n",
    "    gray = cv2.cvtColor(image, cv2.COLOR_BGR2GRAY)\n",
    "    faces = face_cascade.detectMultiScale(gray, 1.3, 5)\n",
    "    for (x,y,w,h) in faces:\n",
    "        cropped_image = image[y:(y+h),x:(x+w),:]\n",
    "    cv2.imwrite('cropped_images/'+str(i)+'.jpg',cv2.cvtColor(cropped_image, cv2.COLOR_RGB2BGR))\n"
   ]
  },
  {
   "cell_type": "markdown",
   "metadata": {},
   "source": [
    "#### Define the Dataset and Dataloader"
   ]
  },
  {
   "cell_type": "code",
   "execution_count": 8,
   "metadata": {},
   "outputs": [],
   "source": [
    "transform = T.Compose([\n",
    "                        T.Resize(64),\n",
    "                        T.CenterCrop(64),\n",
    "                        T.ToTensor(),\n",
    "                        T.Normalize((0.5,0.5,0.5),(0.5,0.5,0.5))\n",
    "])"
   ]
  },
  {
   "cell_type": "code",
   "execution_count": 9,
   "metadata": {},
   "outputs": [],
   "source": [
    "class Faces(Dataset):\n",
    "\n",
    "    def __init__(self, folder):\n",
    "        super().__init__()\n",
    "        self.folder = folder\n",
    "        self.images = sorted(glob(self.folder + '/*.jpg'))\n",
    "    def __len__(self):\n",
    "        return len(self.images)\n",
    "    def __getitem__(self, idx):\n",
    "        image_path = self.images[idx]\n",
    "        image = Image.open(image_path)\n",
    "        image = transform(image)\n",
    "        \n",
    "        return image"
   ]
  },
  {
   "cell_type": "code",
   "execution_count": 10,
   "metadata": {},
   "outputs": [],
   "source": [
    "faces_dataset = Faces(folder = \"cropped_images\")"
   ]
  },
  {
   "cell_type": "code",
   "execution_count": 11,
   "metadata": {},
   "outputs": [],
   "source": [
    "faces_dataloader = DataLoader(faces_dataset, batch_size=64, shuffle=True , num_workers=8)"
   ]
  },
  {
   "cell_type": "markdown",
   "metadata": {},
   "source": [
    "#### Define the Weight Initialization"
   ]
  },
  {
   "cell_type": "code",
   "execution_count": 12,
   "metadata": {},
   "outputs": [],
   "source": [
    "def weights_init(m):\n",
    "    classname = m.__class__.__name__\n",
    "    if classname.find('Conv') != -1:\n",
    "        nn.init.normal_(m.weight.data, 0.0, 0.02)\n",
    "    elif classname.find('BatchNorm') != -1:\n",
    "        nn.init.normal_(m.weight.data, 1.0, 0.02)\n",
    "        nn.init.constant_(m.bias.data, 0)"
   ]
  },
  {
   "cell_type": "markdown",
   "metadata": {},
   "source": [
    "#### Define the Discriminator"
   ]
  },
  {
   "cell_type": "code",
   "execution_count": 13,
   "metadata": {},
   "outputs": [],
   "source": [
    "class Discriminator(nn.Module):\n",
    "    def __init__(self):\n",
    "        super(Discriminator, self).__init__()\n",
    "        # Convolutional layers\n",
    "        self.model = nn.Sequential(\n",
    "                                   nn.Conv2d(3, 64, 4, stride=2, padding=1, bias=False),\n",
    "                                   nn.LeakyReLU(0.2, inplace=True),\n",
    "                                   nn.Conv2d(64, 128, 4, stride=2, padding=1, bias=False),\n",
    "                                   nn.BatchNorm2d(128),\n",
    "                                   nn.LeakyReLU(0.2, inplace=True),\n",
    "                                   nn.Conv2d(64*2,64*4,4,2,1,bias=False),\n",
    "                                   nn.BatchNorm2d(64*4),\n",
    "                                   nn.LeakyReLU(0.2,inplace=True),\n",
    "                                   nn.Conv2d(64*4,64*8,4,2,1,bias=False),\n",
    "                                   nn.BatchNorm2d(64*8),\n",
    "                                   nn.LeakyReLU(0.2,inplace=True),\n",
    "                                   nn.Conv2d(64*8,1,4,1,0,bias=False),\n",
    "                                   nn.Sigmoid()\n",
    "                                   )\n",
    "        self.apply(weights_init)\n",
    "    def forward(self, input):\n",
    "        return self.model(input)\n"
   ]
  },
  {
   "cell_type": "code",
   "execution_count": 14,
   "metadata": {},
   "outputs": [
    {
     "name": "stdout",
     "output_type": "stream",
     "text": [
      "----------------------------------------------------------------\n",
      "        Layer (type)               Output Shape         Param #\n",
      "================================================================\n",
      "            Conv2d-1           [-1, 64, 32, 32]           3,072\n",
      "         LeakyReLU-2           [-1, 64, 32, 32]               0\n",
      "            Conv2d-3          [-1, 128, 16, 16]         131,072\n",
      "       BatchNorm2d-4          [-1, 128, 16, 16]             256\n",
      "         LeakyReLU-5          [-1, 128, 16, 16]               0\n",
      "            Conv2d-6            [-1, 256, 8, 8]         524,288\n",
      "       BatchNorm2d-7            [-1, 256, 8, 8]             512\n",
      "         LeakyReLU-8            [-1, 256, 8, 8]               0\n",
      "            Conv2d-9            [-1, 512, 4, 4]       2,097,152\n",
      "      BatchNorm2d-10            [-1, 512, 4, 4]           1,024\n",
      "        LeakyReLU-11            [-1, 512, 4, 4]               0\n",
      "           Conv2d-12              [-1, 1, 1, 1]           8,192\n",
      "          Sigmoid-13              [-1, 1, 1, 1]               0\n",
      "================================================================\n",
      "Total params: 2,765,568\n",
      "Trainable params: 2,765,568\n",
      "Non-trainable params: 0\n",
      "----------------------------------------------------------------\n",
      "Input size (MB): 0.05\n",
      "Forward/backward pass size (MB): 2.31\n",
      "Params size (MB): 10.55\n",
      "Estimated Total Size (MB): 12.91\n",
      "----------------------------------------------------------------\n"
     ]
    }
   ],
   "source": [
    "from torchsummary import summary\n",
    "discriminator = Discriminator().to(device)\n",
    "summary(discriminator, input_size=(3, 64, 64))"
   ]
  },
  {
   "cell_type": "markdown",
   "metadata": {},
   "source": [
    "#### Defined the Generator"
   ]
  },
  {
   "cell_type": "code",
   "execution_count": 15,
   "metadata": {},
   "outputs": [],
   "source": [
    "class Generator(nn.Module):\n",
    "    def __init__(self):\n",
    "        super(Generator, self).__init__()\n",
    "\n",
    "        self.model = nn.Sequential(\n",
    "                                    nn.ConvTranspose2d(100,64*8,4,1,0,bias=False,),\n",
    "                                    nn.BatchNorm2d(64*8),\n",
    "                                    nn.ReLU(True),\n",
    "                                    nn.ConvTranspose2d(64*8,64*4,4,2,1,bias=False),\n",
    "                                    nn.BatchNorm2d(64*4),\n",
    "                                    nn.ReLU(True),\n",
    "                                    nn.ConvTranspose2d( 64*4,64*2,4,2,1,bias=False),\n",
    "                                    nn.BatchNorm2d(64*2),\n",
    "                                    nn.ReLU(True),\n",
    "                                    nn.ConvTranspose2d( 64*2,64,4,2,1,bias=False),\n",
    "                                    nn.BatchNorm2d(64),\n",
    "                                    nn.ReLU(True),\n",
    "                                    nn.ConvTranspose2d( 64,3,4,2,1,bias=False),\n",
    "                                    nn.Tanh()\n",
    "                                         )\n",
    "        self.apply(weights_init)\n",
    "    def forward(self, input):\n",
    "        output = self.model(input)\n",
    "        return output"
   ]
  },
  {
   "cell_type": "code",
   "execution_count": 16,
   "metadata": {},
   "outputs": [
    {
     "name": "stdout",
     "output_type": "stream",
     "text": [
      "----------------------------------------------------------------\n",
      "        Layer (type)               Output Shape         Param #\n",
      "================================================================\n",
      "   ConvTranspose2d-1            [-1, 512, 4, 4]         819,200\n",
      "       BatchNorm2d-2            [-1, 512, 4, 4]           1,024\n",
      "              ReLU-3            [-1, 512, 4, 4]               0\n",
      "   ConvTranspose2d-4            [-1, 256, 8, 8]       2,097,152\n",
      "       BatchNorm2d-5            [-1, 256, 8, 8]             512\n",
      "              ReLU-6            [-1, 256, 8, 8]               0\n",
      "   ConvTranspose2d-7          [-1, 128, 16, 16]         524,288\n",
      "       BatchNorm2d-8          [-1, 128, 16, 16]             256\n",
      "              ReLU-9          [-1, 128, 16, 16]               0\n",
      "  ConvTranspose2d-10           [-1, 64, 32, 32]         131,072\n",
      "      BatchNorm2d-11           [-1, 64, 32, 32]             128\n",
      "             ReLU-12           [-1, 64, 32, 32]               0\n",
      "  ConvTranspose2d-13            [-1, 3, 64, 64]           3,072\n",
      "             Tanh-14            [-1, 3, 64, 64]               0\n",
      "================================================================\n",
      "Total params: 3,576,704\n",
      "Trainable params: 3,576,704\n",
      "Non-trainable params: 0\n",
      "----------------------------------------------------------------\n",
      "Input size (MB): 0.00\n",
      "Forward/backward pass size (MB): 3.00\n",
      "Params size (MB): 13.64\n",
      "Estimated Total Size (MB): 16.64\n",
      "----------------------------------------------------------------\n"
     ]
    }
   ],
   "source": [
    "generator = Generator().to(device)\n",
    "summary(generator, input_size=(100,1,1))"
   ]
  },
  {
   "cell_type": "markdown",
   "metadata": {},
   "source": [
    "#### Define functions to Train the Discriminator and Generator, Optimizers, and Loss Function "
   ]
  },
  {
   "cell_type": "code",
   "execution_count": 17,
   "metadata": {},
   "outputs": [],
   "source": [
    "discriminator_optimizer = torch.optim.Adam(discriminator.parameters(), lr=0.0002)\n",
    "generator_optimizer = torch.optim.Adam(generator.parameters(), lr=0.0002)\n",
    "loss = nn.BCELoss()\n",
    "def discriminator_train_step(real_images, fake_images):\n",
    "    discriminator_optimizer.zero_grad()\n",
    "    pred_real = discriminator(real_images)\n",
    "    pred_fake = discriminator(fake_images)\n",
    "    loss_real = loss(pred_real.squeeze(), torch.ones(len(real_images)).to(device)).to(device)\n",
    "    loss_real.backward()\n",
    "    loss_fake = loss(pred_fake.squeeze(), torch.zeros(len(fake_images)).to(device)).to(device)\n",
    "    loss_fake.backward()\n",
    "    discriminator_optimizer.step()\n",
    "    return loss_real + loss_fake"
   ]
  },
  {
   "cell_type": "code",
   "execution_count": 18,
   "metadata": {},
   "outputs": [],
   "source": [
    "def generator_train_step(fake_images):\n",
    "    generator_optimizer.zero_grad()\n",
    "    pred = discriminator(fake_images)\n",
    "    error  = loss(pred.squeeze(), torch.ones(len(fake_images)).to(device)).to(device)\n",
    "    error.backward()\n",
    "    generator_optimizer.step()\n",
    "    return error"
   ]
  },
  {
   "cell_type": "markdown",
   "metadata": {},
   "source": [
    "#### Run the models over Increasing Epochs"
   ]
  },
  {
   "cell_type": "code",
   "execution_count": 21,
   "metadata": {},
   "outputs": [
    {
     "name": "stdout",
     "output_type": "stream",
     "text": [
      "EPOCH: 1.000  g_loss: 5.722  d_loss: 0.248  (37.09s - 1075.53s remaining))\n",
      "EPOCH: 2.000  g_loss: 5.474  d_loss: 0.270  (74.57s - 1044.04s remaining))\n",
      "EPOCH: 3.000  g_loss: 5.706  d_loss: 0.266  (112.25s - 1010.23s remaining))\n",
      "EPOCH: 4.000  g_loss: 5.332  d_loss: 0.241  (150.07s - 975.47s remaining))\n",
      "EPOCH: 5.000  g_loss: 5.531  d_loss: 0.241  (188.00s - 940.00s remaining))\n",
      "EPOCH: 6.000  g_loss: 5.672  d_loss: 0.258  (226.02s - 904.07s remaining))\n",
      "EPOCH: 7.000  g_loss: 5.530  d_loss: 0.273  (264.07s - 867.66s remaining))\n",
      "EPOCH: 8.000  g_loss: 5.473  d_loss: 0.245  (302.12s - 830.82s remaining))\n",
      "EPOCH: 9.000  g_loss: 5.532  d_loss: 0.253  (340.13s - 793.65s remaining))\n",
      "EPOCH: 10.000  g_loss: 5.480  d_loss: 0.247  (378.20s - 756.41s remaining)\n",
      "EPOCH: 11.000  g_loss: 5.517  d_loss: 0.247  (416.30s - 719.07s remaining))\n",
      "EPOCH: 12.000  g_loss: 5.529  d_loss: 0.279  (454.41s - 681.61s remaining)\n",
      "EPOCH: 13.000  g_loss: 5.463  d_loss: 0.278  (492.54s - 644.10s remaining)\n",
      "EPOCH: 14.000  g_loss: 5.331  d_loss: 0.284  (530.70s - 606.51s remaining))\n",
      "EPOCH: 15.000  g_loss: 5.016  d_loss: 0.261  (568.87s - 568.87s remaining)\n",
      "EPOCH: 16.000  g_loss: 5.343  d_loss: 0.247  (607.10s - 531.21s remaining))\n",
      "EPOCH: 17.000  g_loss: 5.512  d_loss: 0.263  (645.28s - 493.45s remaining))\n",
      "EPOCH: 18.000  g_loss: 5.499  d_loss: 0.284  (683.46s - 455.64s remaining))\n",
      "EPOCH: 19.000  g_loss: 5.245  d_loss: 0.250  (721.64s - 417.79s remaining)\n",
      "EPOCH: 20.000  g_loss: 5.156  d_loss: 0.249  (759.96s - 379.98s remaining)\n",
      "EPOCH: 21.000  g_loss: 5.128  d_loss: 0.234  (797.82s - 341.92s remaining)\n",
      "EPOCH: 22.000  g_loss: 5.392  d_loss: 0.259  (835.63s - 303.87s remaining))\n",
      "EPOCH: 23.000  g_loss: 5.156  d_loss: 0.260  (873.45s - 265.83s remaining))\n",
      "EPOCH: 24.000  g_loss: 5.251  d_loss: 0.244  (911.22s - 227.80s remaining))\n",
      "EPOCH: 25.000  g_loss: 5.236  d_loss: 0.240  (948.99s - 189.80s remaining)\n",
      "EPOCH: 26.000  g_loss: 5.182  d_loss: 0.227  (986.72s - 151.80s remaining)\n",
      "EPOCH: 27.000  g_loss: 5.169  d_loss: 0.219  (1024.45s - 113.83s remaining)\n",
      "EPOCH: 28.000  g_loss: 5.265  d_loss: 0.264  (1062.20s - 75.87s remaining)))\n",
      "EPOCH: 29.000  g_loss: 5.305  d_loss: 0.208  (1099.93s - 37.93s remaining)\n",
      "EPOCH: 30.000  g_loss: 5.417  d_loss: 0.225  (1137.68s - 0.00s remaining)))\n"
     ]
    },
    {
     "name": "stderr",
     "output_type": "stream",
     "text": [
      "100%|██████████| 131/131 [00:00<00:00, 337.40it/s]\n"
     ]
    },
    {
     "data": {
      "image/png": "[encoded data removed]",
      "text/plain": [
       "<Figure size 800x600 with 1 Axes>"
      ]
     },
     "metadata": {},
     "output_type": "display_data"
    }
   ],
   "source": [
    "log = Report(30)\n",
    "for epoch in range (30):\n",
    "    N = len(faces_dataloader)\n",
    "    for i, images in enumerate(faces_dataloader):\n",
    "        real_images = images.to(device)\n",
    "        fake_images = fake_data = generator(torch.randn(len(real_images), 100, 1, 1).to(device)).to(device)\n",
    "        fake_images = fake_images.detach()\n",
    "        d_loss = discriminator_train_step(real_images, fake_images)\n",
    "        fake_images = fake_data = generator(torch.randn(len(real_images), 100, 1, 1).to(device)).to(device)\n",
    "        g_loss = generator_train_step(fake_images)\n",
    "\n",
    "        log.record(epoch+(1+i)/N, d_loss=d_loss.item(), g_loss=g_loss.item(), end='\\r')\n",
    "    log.report_avgs(epoch+1)\n",
    "log.plot_epochs(['d_loss','g_loss'])"
   ]
  }
 ],
 "metadata": {
  "kernelspec": {
   "display_name": "cv",
   "language": "python",
   "name": "python3"
  },
  "language_info": {
   "codemirror_mode": {
    "name": "ipython",
    "version": 3
   },
   "file_extension": ".py",
   "mimetype": "text/x-python",
   "name": "python",
   "nbconvert_exporter": "python",
   "pygments_lexer": "ipython3",
   "version": "3.11.3"
  },
  "orig_nbformat": 4
 },
 "nbformat": 4,
 "nbformat_minor": 2
}
