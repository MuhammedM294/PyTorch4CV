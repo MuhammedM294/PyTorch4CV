{
 "cells": [
  {
   "cell_type": "markdown",
   "id": "fef3b417",
   "metadata": {},
   "source": [
    "#### Building CNN to Detect Facial Key Points"
   ]
  },
  {
   "cell_type": "code",
   "execution_count": 18,
   "id": "9dbf97cb",
   "metadata": {},
   "outputs": [],
   "source": [
    "import torchvision\n",
    "import torch.nn as nn\n",
    "import torch\n",
    "import torch.nn.functional as F\n",
    "from torchvision import transforms, models, datasets\n",
    "from torchsummary import summary\n",
    "import numpy as np, pandas as pd, os, glob, cv2\n",
    "from torch.utils.data import TensorDataset,DataLoader,Dataset\n",
    "from copy import deepcopy\n",
    "from mpl_toolkits.mplot3d import Axes3D"
   ]
  },
  {
   "cell_type": "code",
   "execution_count": 19,
   "id": "aee66b11",
   "metadata": {},
   "outputs": [],
   "source": [
    "import matplotlib.pyplot as plt\n",
    "%matplotlib inline\n",
    "from sklearn import cluster\n",
    "device = 'cuda' if torch.cuda.is_available() else 'cpu'"
   ]
  },
  {
   "cell_type": "code",
   "execution_count": 20,
   "id": "06c72258",
   "metadata": {},
   "outputs": [],
   "source": [
    "#!git clone https://github.com/udacity/P1_Facial_Keypoints.git"
   ]
  },
  {
   "cell_type": "code",
   "execution_count": 23,
   "id": "039a390c",
   "metadata": {},
   "outputs": [],
   "source": [
    "train_data = 'data/data/training/'"
   ]
  },
  {
   "cell_type": "code",
   "execution_count": 22,
   "id": "df4679d0",
   "metadata": {},
   "outputs": [],
   "source": [
    "class FaceData(Dataset):\n",
    "    def __init__(self,df):\n",
    "        super(FaceData).__init__()\n",
    "        self.df = df\n",
    "        self.normalize = transforms.Normalize(mean=[0.485, 0.456, 0.406], std=[0.229, 0.224, 0.225])\n",
    "    def __len__(self):\n",
    "        return len(self.df)\n",
    "    def __getitem__(self,indx):\n",
    "        img_path = 'data/data/training/' + self.df.iloc[ix,0]\n",
    "        img = cv2.imread(img_path)/255\n",
    "    "
   ]
  },
  {
   "cell_type": "code",
   "execution_count": null,
   "id": "29cf50c6",
   "metadata": {},
   "outputs": [],
   "source": []
  }
 ],
 "metadata": {
  "kernelspec": {
   "display_name": "Python 3 (ipykernel)",
   "language": "python",
   "name": "python3"
  },
  "language_info": {
   "codemirror_mode": {
    "name": "ipython",
    "version": 3
   },
   "file_extension": ".py",
   "mimetype": "text/x-python",
   "name": "python",
   "nbconvert_exporter": "python",
   "pygments_lexer": "ipython3",
   "version": "3.10.6"
  }
 },
 "nbformat": 4,
 "nbformat_minor": 5
}
