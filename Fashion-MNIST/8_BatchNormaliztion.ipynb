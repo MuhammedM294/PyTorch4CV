{
 "cells": [
  {
   "cell_type": "markdown",
   "id": "3d71748d",
   "metadata": {},
   "source": [
    "## 8. The Impact of Applying Batch Normalization"
   ]
  },
  {
   "cell_type": "markdown",
   "id": "92afe346",
   "metadata": {},
   "source": [
    "This technique normalize the value (z) at each hidden units of the hidden layers similar to the operation of scaling the input data"
   ]
  },
  {
   "cell_type": "code",
   "execution_count": 1,
   "id": "1205140f",
   "metadata": {},
   "outputs": [],
   "source": [
    "import torch \n",
    "import torch.nn as nn \n",
    "from torch.utils.data import Dataset, DataLoader\n",
    "from torch.optim import SGD, Adam\n",
    "import numpy as np\n",
    "import matplotlib.pyplot as plt\n",
    "%matplotlib inline\n",
    "import warnings\n",
    "warnings.filterwarnings(\"ignore\")\n",
    "device = 'cuda' if torch.cuda.is_available() else 'cpu'"
   ]
  },
  {
   "cell_type": "code",
   "execution_count": 2,
   "id": "2c17c975",
   "metadata": {},
   "outputs": [],
   "source": [
    "from torchvision import datasets\n",
    "data_folder = \"Datasets\""
   ]
  },
  {
   "cell_type": "code",
   "execution_count": 3,
   "id": "17909568",
   "metadata": {},
   "outputs": [],
   "source": [
    "fmnist = datasets.FashionMNIST(data_folder, download=True, train=True)\n",
    "train_images = fmnist.data                                \n",
    "train_targets = fmnist.targets"
   ]
  },
  {
   "cell_type": "code",
   "execution_count": 4,
   "id": "7190e5da",
   "metadata": {},
   "outputs": [],
   "source": [
    "validation_fmnist = datasets.FashionMNIST(data_folder, download=True, train=False)\n",
    "validation_images = validation_fmnist.data                                \n",
    "validation_targets = validation_fmnist.targets "
   ]
  },
  {
   "cell_type": "code",
   "execution_count": 5,
   "id": "67107c12",
   "metadata": {},
   "outputs": [],
   "source": [
    "from common_functions import get_data,train_with_validation,display_train_validation_results"
   ]
  },
  {
   "cell_type": "code",
   "execution_count": 6,
   "id": "90e1dc0d",
   "metadata": {},
   "outputs": [],
   "source": [
    "train_data_loader, validation_data_loader = get_data(32,train_images,train_targets,validation_images,validation_targets)"
   ]
  },
  {
   "cell_type": "code",
   "execution_count": 7,
   "id": "9425b2e3",
   "metadata": {},
   "outputs": [],
   "source": [
    "class NeuralNet(nn.Module):\n",
    "    def __init__(self):\n",
    "        super().__init__()\n",
    "        self.input_to_hidden_layer = nn.Linear(28*28, 1000)\n",
    "        #Declaring batch_norm to perform the batch normalization\n",
    "        self.batch_norm = nn.BatchNorm1d(1000)\n",
    "        self.hidden_layer_activation = nn.ReLU()\n",
    "        self.hidden_layer_to_output = nn.Linear(1000,10)\n",
    "    \n",
    "    def forward(self,x):\n",
    "        x = self.input_to_hidden_layer(x)\n",
    "        x0 = self.batch_norm(x)\n",
    "        x1 = self.hidden_layer_activation(x0)\n",
    "        x2 = self.hidden_layer_to_output(x1)\n",
    "        \n",
    "        return x2 "
   ]
  },
  {
   "cell_type": "code",
   "execution_count": 8,
   "id": "948f5e27",
   "metadata": {},
   "outputs": [],
   "source": [
    "def build_model(optimizer = Adam , lr = 1e-3):\n",
    "    model = NeuralNet().to(device)\n",
    "    loss_function = nn.CrossEntropyLoss()\n",
    "    optimizer = optimizer(model.parameters(), lr = lr)\n",
    "    \n",
    "    return model , loss_function , optimizer"
   ]
  },
  {
   "cell_type": "code",
   "execution_count": 9,
   "id": "80600823",
   "metadata": {},
   "outputs": [],
   "source": [
    "model,loss_function, optimizer = build_model(optimizer = Adam , lr=1e-2)"
   ]
  },
  {
   "cell_type": "code",
   "execution_count": null,
   "id": "db2a4eb2",
   "metadata": {},
   "outputs": [
    {
     "name": "stdout",
     "output_type": "stream",
     "text": [
      "Epoch: 1\n",
      "Train Loss: 0.513\n",
      "Train Accuracy: 88%\n",
      "Validation Loss: 0.400\n",
      "Validation Accuracy: 85%\n",
      "<--------------------------------------------------------->\n",
      "Epoch: 2\n",
      "Train Loss: 0.384\n",
      "Train Accuracy: 88%\n",
      "Validation Loss: 0.384\n",
      "Validation Accuracy: 86%\n",
      "<--------------------------------------------------------->\n",
      "Epoch: 3\n",
      "Train Loss: 0.350\n",
      "Train Accuracy: 90%\n",
      "Validation Loss: 0.356\n",
      "Validation Accuracy: 87%\n",
      "<--------------------------------------------------------->\n",
      "Epoch: 4\n",
      "Train Loss: 0.324\n",
      "Train Accuracy: 90%\n",
      "Validation Loss: 0.355\n",
      "Validation Accuracy: 87%\n",
      "<--------------------------------------------------------->\n",
      "Epoch: 5\n",
      "Train Loss: 0.309\n",
      "Train Accuracy: 91%\n",
      "Validation Loss: 0.350\n",
      "Validation Accuracy: 88%\n",
      "<--------------------------------------------------------->\n",
      "Epoch: 6\n",
      "Train Loss: 0.295\n",
      "Train Accuracy: 91%\n",
      "Validation Loss: 0.365\n",
      "Validation Accuracy: 87%\n",
      "<--------------------------------------------------------->\n",
      "Epoch: 7\n",
      "Train Loss: 0.282\n",
      "Train Accuracy: 92%\n",
      "Validation Loss: 0.335\n",
      "Validation Accuracy: 89%\n",
      "<--------------------------------------------------------->\n",
      "Epoch: 8\n",
      "Train Loss: 0.272\n",
      "Train Accuracy: 91%\n",
      "Validation Loss: 0.362\n",
      "Validation Accuracy: 88%\n",
      "<--------------------------------------------------------->\n",
      "Epoch: 9\n",
      "Train Loss: 0.265\n",
      "Train Accuracy: 91%\n",
      "Validation Loss: 0.371\n",
      "Validation Accuracy: 88%\n",
      "<--------------------------------------------------------->\n",
      "Epoch: 10\n",
      "Train Loss: 0.253\n",
      "Train Accuracy: 92%\n",
      "Validation Loss: 0.371\n",
      "Validation Accuracy: 87%\n",
      "<--------------------------------------------------------->\n",
      "Epoch: 11\n",
      "Train Loss: 0.250\n",
      "Train Accuracy: 92%\n",
      "Validation Loss: 0.366\n",
      "Validation Accuracy: 88%\n",
      "<--------------------------------------------------------->\n",
      "Epoch: 12\n",
      "Train Loss: 0.244\n",
      "Train Accuracy: 93%\n",
      "Validation Loss: 0.353\n",
      "Validation Accuracy: 88%\n",
      "<--------------------------------------------------------->\n",
      "Epoch: 13\n",
      "Train Loss: 0.236\n"
     ]
    }
   ],
   "source": [
    "train_losses, train_accuracies, validation_losses, validation_accuracies = train_with_validation(20, train_data_loader,\n",
    "                                                                                                 validation_data_loader,\n",
    "                                                                                                 model,\n",
    "                                                                                                 loss_function,\n",
    "                                                                                                 optimizer)"
   ]
  },
  {
   "cell_type": "code",
   "execution_count": null,
   "id": "38df1459",
   "metadata": {},
   "outputs": [],
   "source": [
    "display_train_validation_results(20,train_losses, train_accuracies, validation_losses, validation_accuracies)"
   ]
  },
  {
   "cell_type": "markdown",
   "id": "3388a25f",
   "metadata": {},
   "source": [
    "Batch normalization achieves a better validation accuracy, and generally  helps when training deep neural networks. It helps us avoid gradients becoming so small that the weights are barely updated"
   ]
  },
  {
   "cell_type": "code",
   "execution_count": null,
   "id": "7aa1e99c",
   "metadata": {},
   "outputs": [],
   "source": []
  }
 ],
 "metadata": {
  "kernelspec": {
   "display_name": "Python 3 (ipykernel)",
   "language": "python",
   "name": "python3"
  },
  "language_info": {
   "codemirror_mode": {
    "name": "ipython",
    "version": 3
   },
   "file_extension": ".py",
   "mimetype": "text/x-python",
   "name": "python",
   "nbconvert_exporter": "python",
   "pygments_lexer": "ipython3",
   "version": "3.11.0"
  }
 },
 "nbformat": 4,
 "nbformat_minor": 5
}
